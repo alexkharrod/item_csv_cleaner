{
 "cells": [
  {
   "cell_type": "code",
   "execution_count": 53,
   "metadata": {},
   "outputs": [
    {
     "name": "stdout",
     "output_type": "stream",
     "text": [
      "File saved as: items_sales_cleaned.csv\n",
      "\n",
      "Verifying remaining SKUs with these numbers (should only be ones where number is not at start):\n",
      "\n",
      "SKUs containing '14':\n",
      "['BSBI-HS144 (BrightSign Built-In HS144, 4K companion board)', 'BSBI-HS145 (BrightSign Built-In HS145 companion board)', 'BSBI-XT1144-PP (BrightSign Built-In XT1144-PP-PCBA)', 'LY1401 (LY1401 -1\" Wide Adjustable Polyester Dog Collar)', 'MP02 (MP02 -  Gaming Mouse Pad with Full color Graphics.  Approximate size is 14x...', 'OM14-CUSTOM (OM14 - Lobster -  Foldable wireless mouse with removable USB 2.4Mhz ...', 'OM14-WHITE (OM14 - Lobster -  White, Foldable wireless mouse with removable USB 2...', 'SL14-WHITE (SL14 -Selfie Ring - White, Round Selfie Light for Mobile phones with ...', 'TA14-WHITE (TA14 -White Travel Adapter / Charger.  Features 1 USBA and 1 USB Type...', 'TT14-BLACK (TT14-Silicone Popper Game - Black)', 'TT14-RED (TT14-Silicone Popper Game - Red)']\n",
      "\n",
      "SKUs containing '16':\n",
      "['AT-UD20-U2-16G-BLACK (UD20 - Twist - Black 16G  USB 2.0 Drive)', 'AT-UD20-U2-16G-BLUE (UD20 - Twist - Blue 295 16G  USB 2.0 Drive)', 'DW16-RED (DW16- Red - 20 OZ Double Wall Vacuum Stainless Tumbler with straw and B...', 'JB16 (JB-Renew 8800 MaH Emergency Charger, with Solar panel.  5V, 1A Output via U...', 'JB2169-GREY (JB2169- 5K mah Dark  Aluminum Magsafe Compatible Power Bank with u s...', 'JB72 (JB72- Business Notebook with 8000mah Power Bank and 16GB Flash Memory.)', 'MSD-16G (16GB Micro SD Card - Black, Bulk Packaging)', 'SD-16G-BLACK (16GB SD card)', 'UD107-U2-16G (UD107 Glow Type C-  16GB  USB 2.0 Drive)', 'UD15-U2-16G (UD15 - Grace-  16GB  USB 2.0 Drive)', 'UD15-U3-16G (UD15 - Grace -  16GB  USB 3.0 Drive)', 'UD20-U2-16G (UD20 - Twist -  16G  USB 2.0 Drive)', 'UD20-U3-16G (UD20 - Twist -  16G  USB 3.0 Drive)', 'UD310-U2-16G (UD310 - Millenium - 16GB  USB 2.0 Drive)', 'UD46-U2-16G (UD46 - Atomic - 16GB  USB 2.0 Drive)', 'UD95-U2-16G (UD95 - Slim -  16GB  USB 2.0 Drive)', 'UD98-U2-16G (UD94 - Twist Deluxe- 16GB  USB 2.0 Drive)', 'UD98-U3-16G (UD94 - Twist Deluxe- 16GB  USB 3.0 Drive)', 'UDPVC-U2-16G (UDPVC - Custom PVC Drive - 16GB  USB 2.0 Drive)', 'WC16B-WHITE (WC16 - \"\" - Clear White with black trim,  Wireless Qi Charger.  Uses...']\n",
      "\n",
      "SKUs containing '20':\n",
      "['AT-UD20-U2-16G-BLACK (UD20 - Twist - Black 16G  USB 2.0 Drive)', 'AT-UD20-U2-16G-BLUE (UD20 - Twist - Blue 295 16G  USB 2.0 Drive)', 'AT-UD20-U2-4G-BLACK (UD20 - Twist - Black 4G  USB 2.0 Drive)', 'AT-UD20-U2-4G-BLUE (UD20 - Twist - Blue 295 4G  USB 2.0 Drive)', 'AT-UD20-U2-4G-RED (UD20 - Twist - Red 4G  USB 2.0 Drive)', 'AT-UD20-U2-4G-Reflex Blue (UD20 - Twist - Reflex Blue 4G  USB 2.0 Drive)', 'AT-UD20-U2-8G-BLACK (UD20 - Twist - Black 8G  USB 2.0 Drive)', 'AT-UD20-U2-8G-BLUE (UD20 - Twist - Blue 295 8G  USB 2.0 Drive)', 'AT-UD20GBE-U2-4G-REFLEXLUE (UD20 -Consignment Inventory Twist -Reflex Blue  4G  U...', 'DW01-SILVER (20 Oz  Silver -  Double Wall Stainless Tumbler)', 'DW01P-BLACK (20 Oz  Black - Powder Coated Double Wall Stainless Tumbler)', 'DW01P-WHITE (20 Oz  White - Powder Coated Double Wall Stainless Tumbler)', 'DW07-BLACK (DW07- Black - 20oz straw bottle.)', 'DW07-WHITE (DW07- White - 20oz straw bottle.)', 'DW16-RED (DW16- Red - 20 OZ Double Wall Vacuum Stainless Tumbler with straw and B...', 'EC20 (EC20 - - Black Silicone Apple Airpods Gen 4 Case with carabiner.)', 'FN11 (FN11 White Two way folding hand fan with 3 speeds.  1200 mAh battery, usb r...', 'FN15 (FN15 Charcoal Grey Aluminum Mini Fan.  3 Speeds, 4000mah battery. Up to 20 ...', 'JB01-BLACK (JB-Topaz, Black 2200 MaH Emergency Charger.  5V, 1A Output via USB.  ...', 'JB52-WHITE (JB52 - White - Charge N Go 200mah keychain power bank with integrated...', 'JB57 (JB57 - 5000 mah Magnetic Wireless Charging Power Bank. With 20W PD Output.)', 'JB58 (JB58 - 20K Mah 65 Watt Power Bank.    Total 65W PD output)', 'LY1202 (LY1202 - 3/4\" Bamboo Fiber lanyard with step and repeat logo.   Standard ...', 'LY1203 (LY1203 - 5/8\" Bamboo Fiber lanyard with step and repeat logo.   Standard ...', 'LY201 (LY201 - 1\" Polyester with Sublimation print.  Standard J Clip attachment.)', 'LY202 (LY202 -  3/4\" Polyester with Sublimation print.  Standard J Clip attachment.)', 'LY203 (LY203- 5/8\" Polyester with Sublimation print.  Standard J Clip attachment.)', 'LY204 (LY204- 3/8\" Polyester with Sublimation print.  Standard J Clip attachment.)', 'TC05 (Cube Timer  - White 5, 10, 15, 20, 30 Minutes.)', 'TS20-WHITE (TS20 -  White,  Touch Stylus)', 'UD20-U2-128M (UD20 - Twist -  128MB  USB 2.0 Drive)', 'UD20-U2-16G (UD20 - Twist -  16G  USB 2.0 Drive)', 'UD20-U2-1G (UD20 - Twist -  1G  USB 2.0 Drive)', 'UD20-U2-256M (UD20 - Twist -  256MB  USB 2.0 Drive)', 'UD20-U2-2G (UD20 - Twist -  2G  USB 2.0 Drive)', 'UD20-U2-32G (UD20 - Twist -  32G  USB 2.0 Drive)', 'UD20-U2-4G (UD20 - Twist -  4G  USB 2.0 Drive)', 'UD20-U2-512M (UD20 - Twist -  512MB  USB 2.0 Drive)', 'UD20-U2-8G (UD20 - Twist -  8G  USB 2.0 Drive)', 'UD20-U3-16G (UD20 - Twist -  16G  USB 3.0 Drive)', 'UD20-U3-32G (UD20 - Twist -  32G  USB 3.0 Drive)', 'UD20-U3-64G (UD20 - Twist -  64G  USB 3.0 Drive)', 'UD20-U3-8G (UD20 - Twist -  8G  USB 3.0 Drive)', 'UD201-U2-4G (UD201 - Discus -  4GB  USB 2.0 Drive)']\n",
      "\n",
      "SKUs containing '21':\n",
      "['AT-PK-SC21 (White Tuck box for SC21)', 'FM21 (FM21 - White 3 layerPolyester Face Mask with 1 location Sublimation Imprint..)', 'JB2169-GREY (JB2169- 5K mah Dark  Aluminum Magsafe Compatible Power Bank with u s...', 'PH21 (PH21 - Black Stick on Magnetic Phone Holder)', 'RFID06 (RFID06 -  -  RFID PVC Card with Ntag 213 chipset..)', 'SC21B-DARKBLUE (SC21B  -Spray & Wipe, Navy  Blue, Water based screen cleaner with...', 'SC21B-GREY (SC21B  -Spray & Wipe,  Grey,   Water based screen cleaner with integr...', 'WC21B (WC21B - Black Quick Charge 10W Phone Stand Wireless Charger.  Output : 15W...']\n",
      "\n",
      "SKUs containing '70':\n",
      "['DF070C-IPS-MF-WHITE (DF07-IPS-MF -  White Matte Finish flat bezel, 7\" IPS Digital...', 'JB70 (JB70-10000mah Power Bank with Light  up Logo)', 'LY70-WHITE (LY70- Cable Lanyard - White Woven lanyard with Micro / lightning comb...', 'LY702 (LY702 - 3/4\" Nylon lanyard with step and repeat logo.  Standard J Clip att...']\n"
     ]
    }
   ],
   "source": [
    "import pandas as pd\n",
    "import os\n",
    "\n",
    "def clean_and_save_file(input_filename):\n",
    "    # Read and process the file\n",
    "    df = pd.read_csv(input_filename, \n",
    "                     encoding='cp1252',\n",
    "                     header=1)\n",
    "    \n",
    "    # Set and name the index\n",
    "    df.set_index(df.columns[0], inplace=True)\n",
    "    df.index.name = 'SKU'\n",
    "    \n",
    "    # Create mask for categories and totals\n",
    "    category_mask = (\n",
    "        (df.index == \"Uncategorized\") |\n",
    "        (df.index == \"Inventory\") |\n",
    "        (df.index == \"Total Inventory\") |\n",
    "        (df.index == \"Total Uncategorized\") |\n",
    "        (df.index == \"TOTAL\")\n",
    "    )\n",
    "    \n",
    "    # Create mask for SKUs starting with specific numbers\n",
    "    # Using regex pattern ^(14|16|20|21|70)- to match at start of string\n",
    "    sku_mask = df.index.str.match(r'^(14|16|20|21|70)-')\n",
    "    \n",
    "    # Combine masks and filter\n",
    "    df = df[~(category_mask | sku_mask)]\n",
    "    \n",
    "    # Create new filename\n",
    "    base_name = os.path.splitext(input_filename)[0]\n",
    "    new_filename = f\"{base_name}_cleaned.csv\"\n",
    "    \n",
    "    # Save to CSV\n",
    "    df.to_csv(new_filename)\n",
    "    print(f\"File saved as: {new_filename}\")\n",
    "    \n",
    "    # Print verification\n",
    "    print(\"\\nVerifying remaining SKUs with these numbers (should only be ones where number is not at start):\")\n",
    "    check_numbers = ['14', '16', '20', '21', '70']\n",
    "    for num in check_numbers:\n",
    "        remaining = df.index[df.index.str.contains(num, na=False)]\n",
    "        if len(remaining) > 0:\n",
    "            print(f\"\\nSKUs containing '{num}':\")\n",
    "            print(remaining.tolist())\n",
    "\n",
    "# Use the function\n",
    "clean_and_save_file('items_sales.CSV')"
   ]
  },
  {
   "cell_type": "code",
   "execution_count": 54,
   "metadata": {},
   "outputs": [
    {
     "name": "stdout",
     "output_type": "stream",
     "text": [
      "File saved as: items_sales_cleaned.csv\n",
      "\n",
      "Verifying remaining SKUs with these numbers (should only be ones where number is not at start):\n",
      "\n",
      "SKUs containing '14':\n",
      "['BSBI-HS144 (BrightSign Built-In HS144, 4K companion board)', 'BSBI-HS145 (BrightSign Built-In HS145 companion board)', 'BSBI-XT1144-PP (BrightSign Built-In XT1144-PP-PCBA)', 'LY1401 (LY1401 -1\" Wide Adjustable Polyester Dog Collar)', 'MP02 (MP02 -  Gaming Mouse Pad with Full color Graphics.  Approximate size is 14x...', 'OM14-CUSTOM (OM14 - Lobster -  Foldable wireless mouse with removable USB 2.4Mhz ...', 'OM14-WHITE (OM14 - Lobster -  White, Foldable wireless mouse with removable USB 2...', 'SL14-WHITE (SL14 -Selfie Ring - White, Round Selfie Light for Mobile phones with ...', 'TA14-WHITE (TA14 -White Travel Adapter / Charger.  Features 1 USBA and 1 USB Type...', 'TT14-BLACK (TT14-Silicone Popper Game - Black)', 'TT14-RED (TT14-Silicone Popper Game - Red)']\n",
      "\n",
      "SKUs containing '16':\n",
      "['AT-UD20-U2-16G-BLACK (UD20 - Twist - Black 16G  USB 2.0 Drive)', 'AT-UD20-U2-16G-BLUE (UD20 - Twist - Blue 295 16G  USB 2.0 Drive)', 'DW16-RED (DW16- Red - 20 OZ Double Wall Vacuum Stainless Tumbler with straw and B...', 'JB16 (JB-Renew 8800 MaH Emergency Charger, with Solar panel.  5V, 1A Output via U...', 'JB2169-GREY (JB2169- 5K mah Dark  Aluminum Magsafe Compatible Power Bank with u s...', 'JB72 (JB72- Business Notebook with 8000mah Power Bank and 16GB Flash Memory.)', 'MSD-16G (16GB Micro SD Card - Black, Bulk Packaging)', 'SD-16G-BLACK (16GB SD card)', 'UD107-U2-16G (UD107 Glow Type C-  16GB  USB 2.0 Drive)', 'UD15-U2-16G (UD15 - Grace-  16GB  USB 2.0 Drive)', 'UD15-U3-16G (UD15 - Grace -  16GB  USB 3.0 Drive)', 'UD20-U2-16G (UD20 - Twist -  16G  USB 2.0 Drive)', 'UD20-U3-16G (UD20 - Twist -  16G  USB 3.0 Drive)', 'UD310-U2-16G (UD310 - Millenium - 16GB  USB 2.0 Drive)', 'UD46-U2-16G (UD46 - Atomic - 16GB  USB 2.0 Drive)', 'UD95-U2-16G (UD95 - Slim -  16GB  USB 2.0 Drive)', 'UD98-U2-16G (UD94 - Twist Deluxe- 16GB  USB 2.0 Drive)', 'UD98-U3-16G (UD94 - Twist Deluxe- 16GB  USB 3.0 Drive)', 'UDPVC-U2-16G (UDPVC - Custom PVC Drive - 16GB  USB 2.0 Drive)', 'WC16B-WHITE (WC16 - \"\" - Clear White with black trim,  Wireless Qi Charger.  Uses...']\n",
      "\n",
      "SKUs containing '20':\n",
      "['AT-UD20-U2-16G-BLACK (UD20 - Twist - Black 16G  USB 2.0 Drive)', 'AT-UD20-U2-16G-BLUE (UD20 - Twist - Blue 295 16G  USB 2.0 Drive)', 'AT-UD20-U2-4G-BLACK (UD20 - Twist - Black 4G  USB 2.0 Drive)', 'AT-UD20-U2-4G-BLUE (UD20 - Twist - Blue 295 4G  USB 2.0 Drive)', 'AT-UD20-U2-4G-RED (UD20 - Twist - Red 4G  USB 2.0 Drive)', 'AT-UD20-U2-4G-Reflex Blue (UD20 - Twist - Reflex Blue 4G  USB 2.0 Drive)', 'AT-UD20-U2-8G-BLACK (UD20 - Twist - Black 8G  USB 2.0 Drive)', 'AT-UD20-U2-8G-BLUE (UD20 - Twist - Blue 295 8G  USB 2.0 Drive)', 'AT-UD20GBE-U2-4G-REFLEXLUE (UD20 -Consignment Inventory Twist -Reflex Blue  4G  U...', 'DW01-SILVER (20 Oz  Silver -  Double Wall Stainless Tumbler)', 'DW01P-BLACK (20 Oz  Black - Powder Coated Double Wall Stainless Tumbler)', 'DW01P-WHITE (20 Oz  White - Powder Coated Double Wall Stainless Tumbler)', 'DW07-BLACK (DW07- Black - 20oz straw bottle.)', 'DW07-WHITE (DW07- White - 20oz straw bottle.)', 'DW16-RED (DW16- Red - 20 OZ Double Wall Vacuum Stainless Tumbler with straw and B...', 'EC20 (EC20 - - Black Silicone Apple Airpods Gen 4 Case with carabiner.)', 'FN11 (FN11 White Two way folding hand fan with 3 speeds.  1200 mAh battery, usb r...', 'FN15 (FN15 Charcoal Grey Aluminum Mini Fan.  3 Speeds, 4000mah battery. Up to 20 ...', 'JB01-BLACK (JB-Topaz, Black 2200 MaH Emergency Charger.  5V, 1A Output via USB.  ...', 'JB52-WHITE (JB52 - White - Charge N Go 200mah keychain power bank with integrated...', 'JB57 (JB57 - 5000 mah Magnetic Wireless Charging Power Bank. With 20W PD Output.)', 'JB58 (JB58 - 20K Mah 65 Watt Power Bank.    Total 65W PD output)', 'LY1202 (LY1202 - 3/4\" Bamboo Fiber lanyard with step and repeat logo.   Standard ...', 'LY1203 (LY1203 - 5/8\" Bamboo Fiber lanyard with step and repeat logo.   Standard ...', 'LY201 (LY201 - 1\" Polyester with Sublimation print.  Standard J Clip attachment.)', 'LY202 (LY202 -  3/4\" Polyester with Sublimation print.  Standard J Clip attachment.)', 'LY203 (LY203- 5/8\" Polyester with Sublimation print.  Standard J Clip attachment.)', 'LY204 (LY204- 3/8\" Polyester with Sublimation print.  Standard J Clip attachment.)', 'TC05 (Cube Timer  - White 5, 10, 15, 20, 30 Minutes.)', 'TS20-WHITE (TS20 -  White,  Touch Stylus)', 'UD20-U2-128M (UD20 - Twist -  128MB  USB 2.0 Drive)', 'UD20-U2-16G (UD20 - Twist -  16G  USB 2.0 Drive)', 'UD20-U2-1G (UD20 - Twist -  1G  USB 2.0 Drive)', 'UD20-U2-256M (UD20 - Twist -  256MB  USB 2.0 Drive)', 'UD20-U2-2G (UD20 - Twist -  2G  USB 2.0 Drive)', 'UD20-U2-32G (UD20 - Twist -  32G  USB 2.0 Drive)', 'UD20-U2-4G (UD20 - Twist -  4G  USB 2.0 Drive)', 'UD20-U2-512M (UD20 - Twist -  512MB  USB 2.0 Drive)', 'UD20-U2-8G (UD20 - Twist -  8G  USB 2.0 Drive)', 'UD20-U3-16G (UD20 - Twist -  16G  USB 3.0 Drive)', 'UD20-U3-32G (UD20 - Twist -  32G  USB 3.0 Drive)', 'UD20-U3-64G (UD20 - Twist -  64G  USB 3.0 Drive)', 'UD20-U3-8G (UD20 - Twist -  8G  USB 3.0 Drive)', 'UD201-U2-4G (UD201 - Discus -  4GB  USB 2.0 Drive)']\n",
      "\n",
      "SKUs containing '21':\n",
      "['AT-PK-SC21 (White Tuck box for SC21)', 'FM21 (FM21 - White 3 layerPolyester Face Mask with 1 location Sublimation Imprint..)', 'JB2169-GREY (JB2169- 5K mah Dark  Aluminum Magsafe Compatible Power Bank with u s...', 'PH21 (PH21 - Black Stick on Magnetic Phone Holder)', 'RFID06 (RFID06 -  -  RFID PVC Card with Ntag 213 chipset..)', 'SC21B-DARKBLUE (SC21B  -Spray & Wipe, Navy  Blue, Water based screen cleaner with...', 'SC21B-GREY (SC21B  -Spray & Wipe,  Grey,   Water based screen cleaner with integr...', 'WC21B (WC21B - Black Quick Charge 10W Phone Stand Wireless Charger.  Output : 15W...']\n",
      "\n",
      "SKUs containing '70':\n",
      "['DF070C-IPS-MF-WHITE (DF07-IPS-MF -  White Matte Finish flat bezel, 7\" IPS Digital...', 'JB70 (JB70-10000mah Power Bank with Light  up Logo)', 'LY70-WHITE (LY70- Cable Lanyard - White Woven lanyard with Micro / lightning comb...', 'LY702 (LY702 - 3/4\" Nylon lanyard with step and repeat logo.  Standard J Clip att...']\n"
     ]
    }
   ],
   "source": [
    "# Use the function\n",
    "clean_and_save_file('items_sales.CSV')"
   ]
  }
 ],
 "metadata": {
  "kernelspec": {
   "display_name": ".venv",
   "language": "python",
   "name": "python3"
  },
  "language_info": {
   "codemirror_mode": {
    "name": "ipython",
    "version": 3
   },
   "file_extension": ".py",
   "mimetype": "text/x-python",
   "name": "python",
   "nbconvert_exporter": "python",
   "pygments_lexer": "ipython3",
   "version": "3.12.8"
  }
 },
 "nbformat": 4,
 "nbformat_minor": 2
}
