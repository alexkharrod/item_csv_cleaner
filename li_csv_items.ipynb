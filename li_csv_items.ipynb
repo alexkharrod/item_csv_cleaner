{
 "cells": [
  {
   "cell_type": "code",
   "execution_count": 51,
   "metadata": {},
   "outputs": [
    {
     "name": "stdout",
     "output_type": "stream",
     "text": [
      "File saved as: items_sales_cleaned.csv\n",
      "\n",
      "Preserved products containing 'Inventory':\n",
      "['AT-UD20GBE-U2-4G-REFLEXLUE (UD20 -Consignment Inventory Twist -Reflex Blue  4G  U...']\n",
      "\n",
      "Preserved products containing 'Total':\n",
      "['JB58 (JB58 - 20K Mah 65 Watt Power Bank.    Total 65W PD output)', 'TA06 (TA06 -Black with Grey Trim Universal Travel Adapter, with 4 USB (Total 2.4A...']\n"
     ]
    }
   ],
   "source": [
    "import pandas as pd\n",
    "import os\n",
    "\n",
    "def clean_and_save_file(input_filename):\n",
    "    # Read and process the file\n",
    "    df = pd.read_csv(input_filename, \n",
    "                     encoding='cp1252',\n",
    "                     header=1)\n",
    "    \n",
    "    # Set and name the index\n",
    "    df.set_index(df.columns[0], inplace=True)\n",
    "    df.index.name = 'SKU'\n",
    "    \n",
    "    # Create more precise mask that only matches exact category and total rows\n",
    "    mask = (\n",
    "        (df.index == \"Uncategorized\") |\n",
    "        (df.index == \"Inventory\") |\n",
    "        (df.index == \"Total Inventory\") |\n",
    "        (df.index == \"Total Uncategorized\") |\n",
    "        (df.index == \"TOTAL\")  # If there's an overall total\n",
    "    )\n",
    "    df = df[~mask]\n",
    "    \n",
    "    # Create new filename\n",
    "    base_name = os.path.splitext(input_filename)[0]\n",
    "    new_filename = f\"{base_name}_cleaned.csv\"\n",
    "    \n",
    "    # Save to CSV\n",
    "    df.to_csv(new_filename)\n",
    "    print(f\"File saved as: {new_filename}\")\n",
    "    \n",
    "    # Print verification of products with \"Inventory\" or \"Total\" to confirm they're preserved\n",
    "    inventory_products = df.index[df.index.str.contains(\"Inventory\", na=False)]\n",
    "    total_products = df.index[df.index.str.contains(\"Total\", na=False)]\n",
    "    \n",
    "    if len(inventory_products) > 0:\n",
    "        print(\"\\nPreserved products containing 'Inventory':\")\n",
    "        print(inventory_products.tolist())\n",
    "    \n",
    "    if len(total_products) > 0:\n",
    "        print(\"\\nPreserved products containing 'Total':\")\n",
    "        print(total_products.tolist())\n",
    "\n",
    "# Use the function\n",
    "clean_and_save_file('items_sales.CSV')\n"
   ]
  },
  {
   "cell_type": "code",
   "execution_count": 52,
   "metadata": {},
   "outputs": [
    {
     "name": "stdout",
     "output_type": "stream",
     "text": [
      "File saved as: items_sales_cleaned.csv\n",
      "\n",
      "Preserved products containing 'Inventory':\n",
      "['AT-UD20GBE-U2-4G-REFLEXLUE (UD20 -Consignment Inventory Twist -Reflex Blue  4G  U...']\n",
      "\n",
      "Preserved products containing 'Total':\n",
      "['JB58 (JB58 - 20K Mah 65 Watt Power Bank.    Total 65W PD output)', 'TA06 (TA06 -Black with Grey Trim Universal Travel Adapter, with 4 USB (Total 2.4A...']\n"
     ]
    }
   ],
   "source": [
    "# Use the function\n",
    "clean_and_save_file('items_sales.CSV')"
   ]
  }
 ],
 "metadata": {
  "kernelspec": {
   "display_name": ".venv",
   "language": "python",
   "name": "python3"
  },
  "language_info": {
   "codemirror_mode": {
    "name": "ipython",
    "version": 3
   },
   "file_extension": ".py",
   "mimetype": "text/x-python",
   "name": "python",
   "nbconvert_exporter": "python",
   "pygments_lexer": "ipython3",
   "version": "3.12.8"
  }
 },
 "nbformat": 4,
 "nbformat_minor": 2
}
