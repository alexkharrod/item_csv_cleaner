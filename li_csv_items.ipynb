{
 "cells": [
  {
   "cell_type": "code",
   "execution_count": null,
   "metadata": {},
   "outputs": [
    {
     "name": "stdout",
     "output_type": "stream",
     "text": [
      "\n",
      "Verifying remaining SKUs:\n",
      "['AC03-WHITE (AC03 - White - USB AC Charger - Color.  AC USB Adapter with single US...', 'AC05-WHITE (AC05 - Quad Charge -White Color 4 USB Charger for AC Outlets. UL Listed)', 'AC12B-WHITE (AC12 -  -White Color 2 USB / 1 AC Outlet  charger for AC Outlets w...', 'AC25B-WHITE (AC25B - White AC Charger. ETL Certified, Input:100 -240VAC          ...', 'AC26-WHITE (AC26 - White AC Charger ETL Certified, PD32W Dual Port Wall Charger  ...']\n"
     ]
    }
   ],
   "source": [
    "import pandas as pd\n",
    "import os\n",
    "\n",
    "def clean_and_save_file(input_filename):\n",
    "    # Read the CSV without specifying index_col initially\n",
    "    df = pd.read_csv(input_filename, \n",
    "                     encoding='cp1252',\n",
    "                     header=1)\n",
    "    \n",
    "    # Set the first unnamed column as index\n",
    "    df.set_index(df.columns[0], inplace=True)\n",
    "    df.index.name = 'SKU'\n",
    "    \n",
    "    # Clean quotes from the index\n",
    "    df.index = df.index.str.replace('\"', '')\n",
    "    \n",
    "    # Create mask for categories and totals\n",
    "    category_mask = (\n",
    "        (df.index == \"Uncategorized\") |\n",
    "        (df.index == \"Inventory\") |\n",
    "        (df.index == \"Total Inventory\") |\n",
    "        (df.index == \"Total Uncategorized\") |\n",
    "        (df.index == \"TOTAL\")\n",
    "    )\n",
    "    \n",
    "    # Create mask for SKUs starting with specific numbers\n",
    "    sku_mask = df.index.str.match(r'^(14|16|20|21|70)-')\n",
    "    \n",
    "    # Combine masks and filter\n",
    "    df = df[~(category_mask | sku_mask)]\n",
    "    \n",
    "    # Create new filename\n",
    "    base_name = os.path.splitext(input_filename)[0]\n",
    "    new_filename = f\"{base_name}_cleaned.csv\"\n",
    "    \n",
    "    # Save to CSV with minimal quoting\n",
    "    df.to_csv(new_filename, quoting=1)  # QUOTE_MINIMAL\n",
    "    \n",
    "    # Print verification\n",
    "    print(\"\\nVerifying remaining SKUs:\")\n",
    "    print(df.index.tolist()[:5])\n"
   ]
  },
  {
   "cell_type": "code",
   "execution_count": 59,
   "metadata": {},
   "outputs": [
    {
     "name": "stdout",
     "output_type": "stream",
     "text": [
      "\n",
      "Verifying remaining SKUs:\n",
      "['AC03-WHITE (AC03 - White - USB AC Charger - Color.  AC USB Adapter with single US...', 'AC05-WHITE (AC05 - Quad Charge -White Color 4 USB Charger for AC Outlets. UL Listed)', 'AC12B-WHITE (AC12 -  -White Color 2 USB / 1 AC Outlet  charger for AC Outlets w...', 'AC25B-WHITE (AC25B - White AC Charger. ETL Certified, Input:100 -240VAC          ...', 'AC26-WHITE (AC26 - White AC Charger ETL Certified, PD32W Dual Port Wall Charger  ...']\n"
     ]
    }
   ],
   "source": [
    "# Use the function\n",
    "clean_and_save_file('items_sales.CSV')"
   ]
  }
 ],
 "metadata": {
  "kernelspec": {
   "display_name": ".venv",
   "language": "python",
   "name": "python3"
  },
  "language_info": {
   "codemirror_mode": {
    "name": "ipython",
    "version": 3
   },
   "file_extension": ".py",
   "mimetype": "text/x-python",
   "name": "python",
   "nbconvert_exporter": "python",
   "pygments_lexer": "ipython3",
   "version": "3.12.8"
  }
 },
 "nbformat": 4,
 "nbformat_minor": 2
}
