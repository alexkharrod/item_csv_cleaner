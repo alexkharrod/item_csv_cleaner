{
 "cells": [
  {
   "cell_type": "code",
   "execution_count": 38,
   "metadata": {},
   "outputs": [
    {
     "name": "stdout",
     "output_type": "stream",
     "text": [
      "\n",
      "First few rows:\n"
     ]
    },
    {
     "data": {
      "application/vnd.microsoft.datawrangler.viewer.v0+json": {
       "columns": [
        {
         "name": "SKU",
         "rawType": "object",
         "type": "string"
        },
        {
         "name": "Qty",
         "rawType": "float64",
         "type": "float"
        },
        {
         "name": "Amount",
         "rawType": "float64",
         "type": "float"
        },
        {
         "name": "% of Sales",
         "rawType": "object",
         "type": "string"
        },
        {
         "name": "Avg Price",
         "rawType": "float64",
         "type": "float"
        }
       ],
       "conversionMethod": "pd.DataFrame",
       "ref": "f3f5a6a5-8b89-40c8-9eb6-32ec068a1547",
       "rows": [
        [
         "14-2222-0001 (LED MODULE BAR W/ CONNECTORS  )",
         "13000.0",
         "38160.0",
         "0.2%",
         "2.94"
        ],
        [
         "14-2222-0002 (CONNECTOR, GD 12\" LED STRIP  )",
         "4000.0",
         "12100.0",
         "0.1%",
         "3.03"
        ],
        [
         "16-0306-0004 (PCB, RELAY, MOSFET & AROMAT CONFIG, ROHS.  )",
         "46.0",
         "2194.2",
         "0.0%",
         "47.7"
        ],
        [
         "20-0129-0336 (LCD panel, 55\", 3840x2160)",
         "70.0",
         "27580.0",
         "0.1%",
         "394.0"
        ],
        [
         "20-0130-1267 (610mm 2pin m/f speaker extender wires)",
         "351.0",
         "526.5",
         "0.0%",
         "1.5"
        ]
       ],
       "shape": {
        "columns": 4,
        "rows": 5
       }
      },
      "text/html": [
       "<div>\n",
       "<style scoped>\n",
       "    .dataframe tbody tr th:only-of-type {\n",
       "        vertical-align: middle;\n",
       "    }\n",
       "\n",
       "    .dataframe tbody tr th {\n",
       "        vertical-align: top;\n",
       "    }\n",
       "\n",
       "    .dataframe thead th {\n",
       "        text-align: right;\n",
       "    }\n",
       "</style>\n",
       "<table border=\"1\" class=\"dataframe\">\n",
       "  <thead>\n",
       "    <tr style=\"text-align: right;\">\n",
       "      <th></th>\n",
       "      <th>Qty</th>\n",
       "      <th>Amount</th>\n",
       "      <th>% of Sales</th>\n",
       "      <th>Avg Price</th>\n",
       "    </tr>\n",
       "    <tr>\n",
       "      <th>SKU</th>\n",
       "      <th></th>\n",
       "      <th></th>\n",
       "      <th></th>\n",
       "      <th></th>\n",
       "    </tr>\n",
       "  </thead>\n",
       "  <tbody>\n",
       "    <tr>\n",
       "      <th>14-2222-0001 (LED MODULE BAR W/ CONNECTORS  )</th>\n",
       "      <td>13000.0</td>\n",
       "      <td>38160.0</td>\n",
       "      <td>0.2%</td>\n",
       "      <td>2.94</td>\n",
       "    </tr>\n",
       "    <tr>\n",
       "      <th>14-2222-0002 (CONNECTOR, GD 12\" LED STRIP  )</th>\n",
       "      <td>4000.0</td>\n",
       "      <td>12100.0</td>\n",
       "      <td>0.1%</td>\n",
       "      <td>3.03</td>\n",
       "    </tr>\n",
       "    <tr>\n",
       "      <th>16-0306-0004 (PCB, RELAY, MOSFET &amp; AROMAT CONFIG, ROHS.  )</th>\n",
       "      <td>46.0</td>\n",
       "      <td>2194.2</td>\n",
       "      <td>0.0%</td>\n",
       "      <td>47.70</td>\n",
       "    </tr>\n",
       "    <tr>\n",
       "      <th>20-0129-0336 (LCD panel, 55\", 3840x2160)</th>\n",
       "      <td>70.0</td>\n",
       "      <td>27580.0</td>\n",
       "      <td>0.1%</td>\n",
       "      <td>394.00</td>\n",
       "    </tr>\n",
       "    <tr>\n",
       "      <th>20-0130-1267 (610mm 2pin m/f speaker extender wires)</th>\n",
       "      <td>351.0</td>\n",
       "      <td>526.5</td>\n",
       "      <td>0.0%</td>\n",
       "      <td>1.50</td>\n",
       "    </tr>\n",
       "  </tbody>\n",
       "</table>\n",
       "</div>"
      ],
      "text/plain": [
       "                                                        Qty   Amount  \\\n",
       "SKU                                                                    \n",
       "14-2222-0001 (LED MODULE BAR W/ CONNECTORS  )       13000.0  38160.0   \n",
       "14-2222-0002 (CONNECTOR, GD 12\" LED STRIP  )         4000.0  12100.0   \n",
       "16-0306-0004 (PCB, RELAY, MOSFET & AROMAT CONFI...     46.0   2194.2   \n",
       "20-0129-0336 (LCD panel, 55\", 3840x2160)               70.0  27580.0   \n",
       "20-0130-1267 (610mm 2pin m/f speaker extender w...    351.0    526.5   \n",
       "\n",
       "                                                   % of Sales  Avg Price  \n",
       "SKU                                                                       \n",
       "14-2222-0001 (LED MODULE BAR W/ CONNECTORS  )            0.2%       2.94  \n",
       "14-2222-0002 (CONNECTOR, GD 12\" LED STRIP  )             0.1%       3.03  \n",
       "16-0306-0004 (PCB, RELAY, MOSFET & AROMAT CONFI...       0.0%      47.70  \n",
       "20-0129-0336 (LCD panel, 55\", 3840x2160)                 0.1%     394.00  \n",
       "20-0130-1267 (610mm 2pin m/f speaker extender w...       0.0%       1.50  "
      ]
     },
     "execution_count": 38,
     "metadata": {},
     "output_type": "execute_result"
    }
   ],
   "source": [
    "import pandas as pd\n",
    "\n",
    "# Read the CSV without specifying index_col initially\n",
    "df = pd.read_csv('items_sales.CSV', \n",
    "                 encoding='cp1252',\n",
    "                 header=1)\n",
    "\n",
    "# Set the first unnamed column as index and name it\n",
    "df.set_index(df.columns[0], inplace=True)\n",
    "df.index.name = 'SKU'\n",
    "\n",
    "# Create a more precise mask\n",
    "mask = (\n",
    "    (df.index == \"Uncategorized\") |\n",
    "    (df.index == \"Total Uncategorized\") |\n",
    "    (df.index == \"Inventory\") |\n",
    "    (df.index == \"Total Inventory\")\n",
    ")\n",
    "df = df[~mask]\n",
    "\n",
    "print(\"\\nFirst few rows:\")\n",
    "df.head()\n"
   ]
  },
  {
   "cell_type": "code",
   "execution_count": null,
   "metadata": {},
   "outputs": [],
   "source": []
  }
 ],
 "metadata": {
  "kernelspec": {
   "display_name": ".venv",
   "language": "python",
   "name": "python3"
  },
  "language_info": {
   "codemirror_mode": {
    "name": "ipython",
    "version": 3
   },
   "file_extension": ".py",
   "mimetype": "text/x-python",
   "name": "python",
   "nbconvert_exporter": "python",
   "pygments_lexer": "ipython3",
   "version": "3.12.8"
  }
 },
 "nbformat": 4,
 "nbformat_minor": 2
}
